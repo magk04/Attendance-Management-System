{
 "cells": [
  {
   "cell_type": "markdown",
   "metadata": {},
   "source": [
    "## Import Modules and Libraries"
   ]
  },
  {
   "cell_type": "code",
   "execution_count": 1,
   "metadata": {},
   "outputs": [],
   "source": [
    "import tkinter as tk\n",
    "from tkinter import Message ,Text\n",
    "import cv2,os\n",
    "import shutil\n",
    "import csv\n",
    "import numpy as np\n",
    "from PIL import Image, ImageTk\n",
    "import pandas as pd\n",
    "import datetime\n",
    "import time\n",
    "import tkinter.ttk as ttk\n",
    "import tkinter.font as font"
   ]
  },
  {
   "cell_type": "markdown",
   "metadata": {},
   "source": [
    "## Window Configuration "
   ]
  },
  {
   "cell_type": "code",
   "execution_count": null,
   "metadata": {},
   "outputs": [],
   "source": [
    "window = tk.Tk()\n",
    "\n",
    "window.title(\"Attendance System\")\n",
    "\n",
    "\n",
    "window.configure(bg='cyan')\n",
    "\n",
    "window.attributes('-fullscreen', True)\n",
    "\n",
    "window.grid_rowconfigure(0, weight=1)\n",
    "window.grid_columnconfigure(0, weight=1)\n"
   ]
  },
  {
   "cell_type": "code",
   "execution_count": 3,
   "metadata": {},
   "outputs": [],
   "source": [
    "message = tk.Label(window, text=\"ATTENDANCE MANAGEMENT PORTAL\" ,bg=\"cyan\"  ,fg=\"black\"  ,width=50  ,height=3,font=('arial', 30, 'bold')) \n",
    "\n",
    "message.place(x=200, y=20)\n",
    "\n",
    "lbl = tk.Label(window, text=\"College ID\",width=20  ,height=2  ,fg=\"white\"  ,bg=\"magenta\" ,font=('arial', 15, ' bold ') ) \n",
    "lbl.place(x=400, y=200)\n",
    "\n",
    "txt = tk.Entry(window,width=20  ,bg=\"yellow\" ,fg=\"red\",font=('arial', 15, ' bold '))\n",
    "txt.place(x=700, y=215)\n",
    "\n",
    "lbl2 = tk.Label(window, text=\"Name\",width=20  ,fg=\"white\"  ,bg=\"magenta\"   ,height=2 ,font=('arial', 15, ' bold ')) \n",
    "lbl2.place(x=400, y=300)\n",
    "\n",
    "txt2 = tk.Entry(window,width=20  ,bg=\"yellow\"  ,fg=\"red\",font=('arial', 15, ' bold ')  )\n",
    "txt2.place(x=700, y=315)\n",
    "\n",
    "lbl3 = tk.Label(window, text=\"Notification : \",width=20  ,fg=\"white\"  ,bg=\"magenta\"  ,height=2 ,font=('arial', 15, ' bold')) \n",
    "lbl3.place(x=400, y=400)\n",
    "\n",
    "message = tk.Label(window, text=\"\" ,bg=\"yellow\"  ,fg=\"red\"  ,width=30  ,height=2, activebackground = \"yellow\" ,font=('arial', 15, ' bold ')) \n",
    "message.place(x=700, y=400)\n",
    "\n",
    "lbl3 = tk.Label(window, text=\"ATTENDANCE : \",width=20  ,fg=\"white\"  ,bg=\"magenta\"  ,height=2 ,font=('arial', 15, ' bold')) \n",
    "lbl3.place(x=400, y=650)\n",
    "\n",
    "\n",
    "message2 = tk.Label(window, text=\"\" ,fg=\"white\"  ,bg=\"magenta\",activeforeground = \"green\",width=30  ,height=2  ,font=('arial', 15, ' bold ')) \n",
    "message2.place(x=700, y=650)"
   ]
  },
  {
   "cell_type": "markdown",
   "metadata": {},
   "source": [
    "## Clear Functions"
   ]
  },
  {
   "cell_type": "code",
   "execution_count": 4,
   "metadata": {},
   "outputs": [],
   "source": [
    "def clear():\n",
    "    txt.delete(0, 'end')    \n",
    "    res = \"\"\n",
    "    message.configure(text= res)"
   ]
  },
  {
   "cell_type": "code",
   "execution_count": 5,
   "metadata": {},
   "outputs": [],
   "source": [
    "def clear2():\n",
    "    txt2.delete(0, 'end')    \n",
    "    res = \"\"\n",
    "    message.configure(text= res)"
   ]
  },
  {
   "cell_type": "code",
   "execution_count": 6,
   "metadata": {},
   "outputs": [],
   "source": [
    "def is_number(s):\n",
    "    try:\n",
    "        float(s)\n",
    "        return True\n",
    "    except ValueError:\n",
    "        pass\n",
    " \n",
    "    try:\n",
    "        import unicodedata\n",
    "        unicodedata.numeric(s)\n",
    "        return True\n",
    "    except (TypeError, ValueError):\n",
    "        pass\n",
    " \n",
    "    return False"
   ]
  },
  {
   "cell_type": "markdown",
   "metadata": {},
   "source": [
    "## TakeImages()\n",
    "\n",
    "##### Now we will define a function TakeImages() which captures the images, recognizes the face in it, crop the images to save images in a folder TrainingImage. Also, it saves the name and ID of the person entered in a csv file “StudentDetails.csv”."
   ]
  },
  {
   "cell_type": "code",
   "execution_count": 7,
   "metadata": {},
   "outputs": [],
   "source": [
    "def TakeImages():        \n",
    "    Id=(txt.get())\n",
    "    name=(txt2.get())\n",
    "    if(is_number(Id) and name.isalpha()):\n",
    "        cam = cv2.VideoCapture(0)\n",
    "        harcascadePath = \"haarcascade_frontalface_default.xml\"\n",
    "        detector=cv2.CascadeClassifier(harcascadePath)\n",
    "        sampleNum=0\n",
    "        while(True):\n",
    "            ret, img = cam.read()\n",
    "            gray = cv2.cvtColor(img, cv2.COLOR_BGR2GRAY)\n",
    "            faces = detector.detectMultiScale(gray, 1.3, 5)\n",
    "            for (x,y,w,h) in faces:\n",
    "                cv2.rectangle(img,(x,y),(x+w,y+h),(255,0,0),2)        \n",
    "                #incrementing sample number \n",
    "                sampleNum=sampleNum+1\n",
    "                #saving the captured face in the dataset folder TrainingImage\n",
    "                cv2.imwrite(\"TrainingImage\\ \"+name +\".\"+Id +'.'+ str(sampleNum) + \".jpg\", gray[y:y+h,x:x+w])\n",
    "                #display the frame\n",
    "                cv2.imshow('frame',img)\n",
    "            #wait for 100 miliseconds \n",
    "            if cv2.waitKey(100) & 0xFF == ord('q'):\n",
    "                break\n",
    "            # break if the sample number is morethan 100\n",
    "            elif sampleNum>60:\n",
    "                break\n",
    "        cam.release()\n",
    "        cv2.destroyAllWindows() \n",
    "        res = \"Images Captured for ID : \" + Id +\" Name : \"+ name\n",
    "        row = [Id , name]\n",
    "        with open('StudentDetails\\StudentDetails.csv','a+') as csvFile:\n",
    "            writer = csv.writer(csvFile)\n",
    "            writer.writerow(row)\n",
    "        csvFile.close()\n",
    "        message.configure(text= res)\n",
    "    else:\n",
    "        if(is_number(Id)):\n",
    "            res = \"Enter Alphabetical Name\"\n",
    "            message.configure(text= res)\n",
    "        if(name.isalpha()):\n",
    "            res = \"Enter Numeric Id\"\n",
    "            message.configure(text= res)\n",
    "    \n"
   ]
  },
  {
   "cell_type": "markdown",
   "metadata": {},
   "source": [
    "## TrainImages()\n",
    "\n",
    "##### Then we define a function, TrainImages() to train the Images, which saves the trained file as Trainner.yml"
   ]
  },
  {
   "cell_type": "code",
   "execution_count": 8,
   "metadata": {},
   "outputs": [],
   "source": [
    "def TrainImages():\n",
    "    recognizer = cv2.face_LBPHFaceRecognizer.create()\n",
    "    harcascadePath = \"haarcascade_frontalface_default.xml\"\n",
    "    detector =cv2.CascadeClassifier(harcascadePath)\n",
    "    faces,Id = getImagesAndLabels(\"TrainingImage\")\n",
    "    recognizer.train(faces, np.array(Id))\n",
    "    recognizer.save(\"TrainingImageLabel\\Trainner.yml\")\n",
    "    res = \"Model Trained\"\n",
    "    message.configure(text= res)\n",
    "\n"
   ]
  },
  {
   "cell_type": "markdown",
   "metadata": {},
   "source": [
    "## getImagesAndLabels(path)\n",
    "\n",
    "##### A function getImagesAndLabels(path) is defined which returns the faces and Ids of the Image path entered."
   ]
  },
  {
   "cell_type": "code",
   "execution_count": 9,
   "metadata": {},
   "outputs": [],
   "source": [
    "def getImagesAndLabels(path):\n",
    "    #get the path of all the files in the folder\n",
    "    imagePaths=[os.path.join(path,f) for f in os.listdir(path)] \n",
    "    #print(imagePaths)\n",
    "    \n",
    "    #create empth face list\n",
    "    faces=[]\n",
    "    #create empty ID list\n",
    "    Ids=[]\n",
    "    #now looping through all the image paths and loading the Ids and the images\n",
    "    for imagePath in imagePaths:\n",
    "        #loading the image and converting it to gray scale\n",
    "        pilImage=Image.open(imagePath).convert('L')\n",
    "        #Now we are converting the PIL image into numpy array\n",
    "        imageNp=np.array(pilImage,'uint8')\n",
    "        #getting the Id from the image\n",
    "        Id=int(os.path.split(imagePath)[-1].split(\".\")[1])\n",
    "        # extract the face from the training image sample\n",
    "        faces.append(imageNp)\n",
    "        Ids.append(Id)        \n",
    "    return faces,Ids"
   ]
  },
  {
   "cell_type": "markdown",
   "metadata": {},
   "source": [
    "## MarkAttendance()\n",
    "\n",
    "###### A MarkAttendance() function is created which identifies the person, Marks his/her attendance, date and time, and saves the csv file in the Attendance folder, with the date as the file name."
   ]
  },
  {
   "cell_type": "code",
   "execution_count": 10,
   "metadata": {},
   "outputs": [],
   "source": [
    "def MarkAttendance():\n",
    "    recognizer = cv2.face.LBPHFaceRecognizer_create()\n",
    "    recognizer.read(\"TrainingImageLabel\\Trainner.yml\")\n",
    "    harcascadePath = \"haarcascade_frontalface_default.xml\"\n",
    "    faceCascade = cv2.CascadeClassifier(harcascadePath);    \n",
    "    df=pd.read_csv(\"StudentDetails\\StudentDetails.csv\")\n",
    "    cam = cv2.VideoCapture(0)\n",
    "    font = cv2.FONT_HERSHEY_SIMPLEX        \n",
    "    col_names =  ['Id','Name','Date','Time']\n",
    "    attendance = pd.DataFrame(columns = col_names)    \n",
    "    while True:\n",
    "        ret, im =cam.read()\n",
    "        gray=cv2.cvtColor(im,cv2.COLOR_BGR2GRAY)\n",
    "        faces=faceCascade.detectMultiScale(gray, 1.2,5)    \n",
    "        for(x,y,w,h) in faces:\n",
    "            cv2.rectangle(im,(x,y),(x+w,y+h),(225,0,0),2)\n",
    "            Id, conf = recognizer.predict(gray[y:y+h,x:x+w])                                   \n",
    "            if(conf < 50):\n",
    "                ts = time.time()      \n",
    "                date = datetime.datetime.fromtimestamp(ts).strftime('%Y-%m-%d')\n",
    "                timeStamp = datetime.datetime.fromtimestamp(ts).strftime('%H:%M:%S')\n",
    "                aa=df.loc[df['Id'] == Id]['Name'].values\n",
    "                tt=str(Id)+\"-\"+aa\n",
    "                attendance.loc[len(attendance)] = [Id,aa,date,timeStamp]\n",
    "                \n",
    "            else:\n",
    "                Id='Unknown'                \n",
    "                tt=str(Id)  \n",
    "            if(conf > 75):\n",
    "                noOfFile=len(os.listdir(\"ImagesUnknown\"))+1\n",
    "                cv2.imwrite(\"ImagesUnknown\\Image\"+str(noOfFile) + \".jpg\", im[y:y+h,x:x+w])            \n",
    "            cv2.putText(im,str(tt),(x,y+h), font, 1,(255,255,255),2)        \n",
    "        attendance=attendance.drop_duplicates(subset=['Id'],keep='first')    \n",
    "        cv2.imshow('im',im) \n",
    "        if (cv2.waitKey(1)==ord('q')):\n",
    "            break\n",
    "    ts = time.time()      \n",
    "    date = datetime.datetime.fromtimestamp(ts).strftime('%Y-%m-%d')\n",
    "    timeStamp = datetime.datetime.fromtimestamp(ts).strftime('%H:%M:%S')\n",
    "    Hour,Minute,Second=timeStamp.split(\":\")\n",
    "    fileName=\"Attendance\\Attendance_\"+date+\"_\"+Hour+\"-\"+Minute+\"-\"+Second+\".csv\"\n",
    "    attendance.to_csv(fileName,index=False)\n",
    "    cam.release()\n",
    "    cv2.destroyAllWindows()\n",
    "    \n",
    "    res=attendance\n",
    "    message2.configure(text= res)"
   ]
  },
  {
   "cell_type": "markdown",
   "metadata": {},
   "source": [
    "## Buttons Functionality"
   ]
  },
  {
   "cell_type": "code",
   "execution_count": 11,
   "metadata": {},
   "outputs": [],
   "source": [
    "clearButton = tk.Button(window, text=\"Clear ID\", command=clear  ,fg=\"white\"  ,bg=\"magenta\"  ,width=20  ,height=2 ,activebackground = \"Red\" ,font=('Arial', 15, ' bold '))\n",
    "clearButton.place(x=950, y=200)\n",
    "clearButton2 = tk.Button(window, text=\"Clear Name\", command=clear2  ,fg=\"white\"  ,bg=\"magenta\"  ,width=20  ,height=2, activebackground = \"Red\" ,font=('Arial', 15, ' bold '))\n",
    "clearButton2.place(x=950, y=300)    \n",
    "takeImg = tk.Button(window, text=\"CAPTURE IMAGE\", command=TakeImages  ,fg=\"white\"  ,bg=\"magenta\"  ,width=20  ,height=3, activebackground = \"Red\" ,font=('Arial', 15, ' bold '))\n",
    "takeImg.place(x=200, y=500)\n",
    "trainImg = tk.Button(window, text=\"TRAIN MODEL\", command=TrainImages  ,fg=\"white\"  ,bg=\"magenta\" ,width=20  ,height=3, activebackground = \"Red\" ,font=('Arial', 15, ' bold '))\n",
    "trainImg.place(x=500, y=500)\n",
    "trackImg = tk.Button(window, text=\"MARK ATTENDANCE\", command=MarkAttendance  ,fg=\"white\"  ,bg=\"magenta\"  ,width=20  ,height=3, activebackground = \"Red\" ,font=('Arial', 15, ' bold '))\n",
    "trackImg.place(x=800, y=500)\n",
    "quitWindow = tk.Button(window, text=\"QUIT\", command=window.destroy  ,fg=\"white\"  ,bg=\"magenta\"  ,width=20  ,height=3, activebackground = \"Red\" ,font=('Arial', 15, ' bold '))\n",
    "quitWindow.place(x=1100, y=500)\n",
    "\n",
    " \n",
    "window.mainloop()"
   ]
  }
 ],
 "metadata": {
  "kernelspec": {
   "display_name": "Python 3",
   "language": "python",
   "name": "python3"
  },
  "language_info": {
   "codemirror_mode": {
    "name": "ipython",
    "version": 3
   },
   "file_extension": ".py",
   "mimetype": "text/x-python",
   "name": "python",
   "nbconvert_exporter": "python",
   "pygments_lexer": "ipython3",
   "version": "3.7.6"
  }
 },
 "nbformat": 4,
 "nbformat_minor": 4
}
